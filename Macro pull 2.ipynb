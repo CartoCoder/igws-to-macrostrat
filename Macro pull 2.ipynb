{
 "cells": [
  {
   "cell_type": "code",
   "execution_count": 1,
   "metadata": {
    "collapsed": true
   },
   "outputs": [],
   "source": [
    "import csv, codecs\n",
    "from urllib.request import urlopen\n",
    "from pprint import pprint"
   ]
  },
  {
   "cell_type": "code",
   "execution_count": 2,
   "metadata": {
    "collapsed": true
   },
   "outputs": [],
   "source": [
    "url = 'https://macrostrat.org/api/defs/strat_names?all&format=csv'"
   ]
  },
  {
   "cell_type": "code",
   "execution_count": 3,
   "metadata": {
    "collapsed": true
   },
   "outputs": [],
   "source": [
    "data = urlopen(url)"
   ]
  },
  {
   "cell_type": "code",
   "execution_count": 4,
   "metadata": {
    "collapsed": false
   },
   "outputs": [
    {
     "data": {
      "text/plain": [
       "http.client.HTTPResponse"
      ]
     },
     "execution_count": 4,
     "metadata": {},
     "output_type": "execute_result"
    }
   ],
   "source": [
    "type(data)"
   ]
  },
  {
   "cell_type": "code",
   "execution_count": 5,
   "metadata": {
    "collapsed": true
   },
   "outputs": [],
   "source": [
    "csv_file = csv.reader(codecs.iterdecode(data, 'utf-8'))"
   ]
  },
  {
   "cell_type": "code",
   "execution_count": 6,
   "metadata": {
    "collapsed": false
   },
   "outputs": [],
   "source": [
    "# create a list of tuples with list(zip)\n",
    "# unpack csv as list of tuples\n",
    "# length of VARIABLE == number of fields\n",
    "# length of VARIABLE[i] == number of rows\n",
    "# VARIABLE[0] == header name\n",
    "columns = list(zip(*csv_file))"
   ]
  },
  {
   "cell_type": "code",
   "execution_count": 7,
   "metadata": {
    "collapsed": false
   },
   "outputs": [
    {
     "data": {
      "text/plain": [
       "24"
      ]
     },
     "execution_count": 7,
     "metadata": {},
     "output_type": "execute_result"
    }
   ],
   "source": [
    "# length of VARIABLE == number of fields\n",
    "len(columns)"
   ]
  },
  {
   "cell_type": "code",
   "execution_count": 8,
   "metadata": {
    "collapsed": false
   },
   "outputs": [
    {
     "data": {
      "text/plain": [
       "45635"
      ]
     },
     "execution_count": 8,
     "metadata": {},
     "output_type": "execute_result"
    }
   ],
   "source": [
    "# length of VARIABLE[i] == number of rows\n",
    "len(columns[0])"
   ]
  },
  {
   "cell_type": "code",
   "execution_count": 9,
   "metadata": {
    "collapsed": false
   },
   "outputs": [
    {
     "name": "stdout",
     "output_type": "stream",
     "text": [
      "strat_name\n",
      "strat_name_long\n",
      "rank\n",
      "strat_name_id\n",
      "concept_id\n",
      "bed\n",
      "bed_id\n",
      "mbr\n",
      "mbr_id\n",
      "fm\n",
      "fm_id\n",
      "subgp\n",
      "subgp_id\n",
      "gp\n",
      "gp_id\n",
      "sgp\n",
      "sgp_id\n",
      "b_age\n",
      "t_age\n",
      "b_period\n",
      "t_period\n",
      "c_interval\n",
      "t_units\n",
      "ref_id\n"
     ]
    }
   ],
   "source": [
    "for item in columns:\n",
    "    print(item[0])"
   ]
  },
  {
   "cell_type": "code",
   "execution_count": 10,
   "metadata": {
    "collapsed": false
   },
   "outputs": [],
   "source": [
    "# set key names to field names (headers in the csv)\n",
    "data_dict = {}\n",
    "for field in columns:\n",
    "    column_name = field[0]\n",
    "    column_values = field[1:]\n",
    "    data_dict[column_name] = column_values"
   ]
  },
  {
   "cell_type": "code",
   "execution_count": 11,
   "metadata": {
    "collapsed": false
   },
   "outputs": [
    {
     "data": {
      "text/plain": [
       "dict_keys(['strat_name', 'strat_name_long', 'rank', 'strat_name_id', 'concept_id', 'bed', 'bed_id', 'mbr', 'mbr_id', 'fm', 'fm_id', 'subgp', 'subgp_id', 'gp', 'gp_id', 'sgp', 'sgp_id', 'b_age', 't_age', 'b_period', 't_period', 'c_interval', 't_units', 'ref_id'])"
      ]
     },
     "execution_count": 11,
     "metadata": {},
     "output_type": "execute_result"
    }
   ],
   "source": [
    "data_dict.keys()"
   ]
  },
  {
   "cell_type": "code",
   "execution_count": 12,
   "metadata": {
    "collapsed": false
   },
   "outputs": [],
   "source": [
    "data_dict['headers'] = sorted(data_dict.keys())"
   ]
  },
  {
   "cell_type": "code",
   "execution_count": 13,
   "metadata": {
    "collapsed": false
   },
   "outputs": [
    {
     "name": "stdout",
     "output_type": "stream",
     "text": [
      "strat_name         (1980 St Helens Ash, 22 Yard Coal, 27 Yard Coa...\n",
      "strat_name_long    (1980 St Helens Ash Bed, 22 Yard Coal Bed, 27 ...\n",
      "rank               (Bed, Bed, Bed, Bed, Bed, Bed, Bed, Bed, Mbr, ...\n",
      "strat_name_id      (6808, 92986, 92987, 92988, 92989, 92990, 9299...\n",
      "concept_id         (0, 36374, 36819, 32110, 36465, 30792, 30871, ...\n",
      "bed                (1980 St Helens Ash, 22 Yard Coal, 27 Yard Coa...\n",
      "bed_id             (6808, 92986, 92987, 92988, 92989, 92990, 9299...\n",
      "mbr                (, , , , , , , , A'Mharagach, , , , Aagot, Aar...\n",
      "mbr_id             (0, 0, 0, 0, 0, 0, 0, 0, 92993, 0, 0, 0, 90930...\n",
      "fm                 (, Pennine Lower Coal Measures, Pennine Middle...\n",
      "fm_id              (0, 98660, 98661, 98660, 98660, 98660, 98660, ...\n",
      "subgp              (, , , , , , , , , , , , , , , , , , , , Busta...\n",
      "subgp_id           (0, 0, 0, 0, 0, 0, 0, 0, 0, 0, 0, 0, 0, 0, 0, ...\n",
      "gp                 (, Pennine Coal Measures, Pennine Coal Measure...\n",
      "gp_id              (0, 98659, 98659, 98659, 98659, 98659, 98659, ...\n",
      "sgp                (, , , , , , , , New Red Sandstone, Moine, , ,...\n",
      "sgp_id             (0, 0, 0, 0, 0, 0, 0, 0, 98288, 98044, 0, 0, 0...\n",
      "b_age              (0.0029, 323.2, 323.2, 323.2, 323.2, 323.2, 32...\n",
      "t_age              (0, 315.2, 307, 315.2, 315.2, 315.2, 315.2, 31...\n",
      "b_period           (Quaternary, Carboniferous, Carboniferous, Car...\n",
      "t_period           (Quaternary, Carboniferous, Carboniferous, Car...\n",
      "c_interval         (Holocene, Bashkirian, Pennsylvanian, Bashkiri...\n",
      "t_units            (1, 0, 0, 0, 0, 0, 0, 0, 0, 0, 0, 0, 0, 0, 0, ...\n",
      "ref_id             (1, 27, 27, 27, 27, 27, 27, 27, 27, 27, 27, 36...\n",
      "headers            [b_age, b_period, bed, bed_id, c_interval, con...\n",
      "dtype: object\n"
     ]
    }
   ],
   "source": [
    "import pandas as pd\n",
    "\n",
    "data_series = pd.Series(data_dict)\n",
    "print(data_series)"
   ]
  },
  {
   "cell_type": "code",
   "execution_count": 14,
   "metadata": {
    "collapsed": false
   },
   "outputs": [
    {
     "name": "stdout",
     "output_type": "stream",
     "text": [
      "45634\n",
      "24\n"
     ]
    }
   ],
   "source": [
    "print(len(data_series['fm']))\n",
    "print(len(data_series['headers']))"
   ]
  },
  {
   "cell_type": "code",
   "execution_count": 15,
   "metadata": {
    "collapsed": false
   },
   "outputs": [
    {
     "data": {
      "text/html": [
       "<div>\n",
       "<style scoped>\n",
       "    .dataframe tbody tr th:only-of-type {\n",
       "        vertical-align: middle;\n",
       "    }\n",
       "\n",
       "    .dataframe tbody tr th {\n",
       "        vertical-align: top;\n",
       "    }\n",
       "\n",
       "    .dataframe thead th {\n",
       "        text-align: right;\n",
       "    }\n",
       "</style>\n",
       "<table border=\"1\" class=\"dataframe\">\n",
       "  <thead>\n",
       "    <tr style=\"text-align: right;\">\n",
       "      <th></th>\n",
       "      <th>0</th>\n",
       "    </tr>\n",
       "  </thead>\n",
       "  <tbody>\n",
       "    <tr>\n",
       "      <th>strat_name</th>\n",
       "      <td>(1980 St Helens Ash, 22 Yard Coal, 27 Yard Coa...</td>\n",
       "    </tr>\n",
       "    <tr>\n",
       "      <th>strat_name_long</th>\n",
       "      <td>(1980 St Helens Ash Bed, 22 Yard Coal Bed, 27 ...</td>\n",
       "    </tr>\n",
       "    <tr>\n",
       "      <th>rank</th>\n",
       "      <td>(Bed, Bed, Bed, Bed, Bed, Bed, Bed, Bed, Mbr, ...</td>\n",
       "    </tr>\n",
       "    <tr>\n",
       "      <th>strat_name_id</th>\n",
       "      <td>(6808, 92986, 92987, 92988, 92989, 92990, 9299...</td>\n",
       "    </tr>\n",
       "    <tr>\n",
       "      <th>concept_id</th>\n",
       "      <td>(0, 36374, 36819, 32110, 36465, 30792, 30871, ...</td>\n",
       "    </tr>\n",
       "    <tr>\n",
       "      <th>bed</th>\n",
       "      <td>(1980 St Helens Ash, 22 Yard Coal, 27 Yard Coa...</td>\n",
       "    </tr>\n",
       "    <tr>\n",
       "      <th>bed_id</th>\n",
       "      <td>(6808, 92986, 92987, 92988, 92989, 92990, 9299...</td>\n",
       "    </tr>\n",
       "    <tr>\n",
       "      <th>mbr</th>\n",
       "      <td>(, , , , , , , , A'Mharagach, , , , Aagot, Aar...</td>\n",
       "    </tr>\n",
       "    <tr>\n",
       "      <th>mbr_id</th>\n",
       "      <td>(0, 0, 0, 0, 0, 0, 0, 0, 92993, 0, 0, 0, 90930...</td>\n",
       "    </tr>\n",
       "    <tr>\n",
       "      <th>fm</th>\n",
       "      <td>(, Pennine Lower Coal Measures, Pennine Middle...</td>\n",
       "    </tr>\n",
       "    <tr>\n",
       "      <th>fm_id</th>\n",
       "      <td>(0, 98660, 98661, 98660, 98660, 98660, 98660, ...</td>\n",
       "    </tr>\n",
       "    <tr>\n",
       "      <th>subgp</th>\n",
       "      <td>(, , , , , , , , , , , , , , , , , , , , Busta...</td>\n",
       "    </tr>\n",
       "    <tr>\n",
       "      <th>subgp_id</th>\n",
       "      <td>(0, 0, 0, 0, 0, 0, 0, 0, 0, 0, 0, 0, 0, 0, 0, ...</td>\n",
       "    </tr>\n",
       "    <tr>\n",
       "      <th>gp</th>\n",
       "      <td>(, Pennine Coal Measures, Pennine Coal Measure...</td>\n",
       "    </tr>\n",
       "    <tr>\n",
       "      <th>gp_id</th>\n",
       "      <td>(0, 98659, 98659, 98659, 98659, 98659, 98659, ...</td>\n",
       "    </tr>\n",
       "    <tr>\n",
       "      <th>sgp</th>\n",
       "      <td>(, , , , , , , , New Red Sandstone, Moine, , ,...</td>\n",
       "    </tr>\n",
       "    <tr>\n",
       "      <th>sgp_id</th>\n",
       "      <td>(0, 0, 0, 0, 0, 0, 0, 0, 98288, 98044, 0, 0, 0...</td>\n",
       "    </tr>\n",
       "    <tr>\n",
       "      <th>b_age</th>\n",
       "      <td>(0.0029, 323.2, 323.2, 323.2, 323.2, 323.2, 32...</td>\n",
       "    </tr>\n",
       "    <tr>\n",
       "      <th>t_age</th>\n",
       "      <td>(0, 315.2, 307, 315.2, 315.2, 315.2, 315.2, 31...</td>\n",
       "    </tr>\n",
       "    <tr>\n",
       "      <th>b_period</th>\n",
       "      <td>(Quaternary, Carboniferous, Carboniferous, Car...</td>\n",
       "    </tr>\n",
       "    <tr>\n",
       "      <th>t_period</th>\n",
       "      <td>(Quaternary, Carboniferous, Carboniferous, Car...</td>\n",
       "    </tr>\n",
       "    <tr>\n",
       "      <th>c_interval</th>\n",
       "      <td>(Holocene, Bashkirian, Pennsylvanian, Bashkiri...</td>\n",
       "    </tr>\n",
       "    <tr>\n",
       "      <th>t_units</th>\n",
       "      <td>(1, 0, 0, 0, 0, 0, 0, 0, 0, 0, 0, 0, 0, 0, 0, ...</td>\n",
       "    </tr>\n",
       "    <tr>\n",
       "      <th>ref_id</th>\n",
       "      <td>(1, 27, 27, 27, 27, 27, 27, 27, 27, 27, 27, 36...</td>\n",
       "    </tr>\n",
       "    <tr>\n",
       "      <th>headers</th>\n",
       "      <td>[b_age, b_period, bed, bed_id, c_interval, con...</td>\n",
       "    </tr>\n",
       "  </tbody>\n",
       "</table>\n",
       "</div>"
      ],
      "text/plain": [
       "                                                                 0\n",
       "strat_name       (1980 St Helens Ash, 22 Yard Coal, 27 Yard Coa...\n",
       "strat_name_long  (1980 St Helens Ash Bed, 22 Yard Coal Bed, 27 ...\n",
       "rank             (Bed, Bed, Bed, Bed, Bed, Bed, Bed, Bed, Mbr, ...\n",
       "strat_name_id    (6808, 92986, 92987, 92988, 92989, 92990, 9299...\n",
       "concept_id       (0, 36374, 36819, 32110, 36465, 30792, 30871, ...\n",
       "bed              (1980 St Helens Ash, 22 Yard Coal, 27 Yard Coa...\n",
       "bed_id           (6808, 92986, 92987, 92988, 92989, 92990, 9299...\n",
       "mbr              (, , , , , , , , A'Mharagach, , , , Aagot, Aar...\n",
       "mbr_id           (0, 0, 0, 0, 0, 0, 0, 0, 92993, 0, 0, 0, 90930...\n",
       "fm               (, Pennine Lower Coal Measures, Pennine Middle...\n",
       "fm_id            (0, 98660, 98661, 98660, 98660, 98660, 98660, ...\n",
       "subgp            (, , , , , , , , , , , , , , , , , , , , Busta...\n",
       "subgp_id         (0, 0, 0, 0, 0, 0, 0, 0, 0, 0, 0, 0, 0, 0, 0, ...\n",
       "gp               (, Pennine Coal Measures, Pennine Coal Measure...\n",
       "gp_id            (0, 98659, 98659, 98659, 98659, 98659, 98659, ...\n",
       "sgp              (, , , , , , , , New Red Sandstone, Moine, , ,...\n",
       "sgp_id           (0, 0, 0, 0, 0, 0, 0, 0, 98288, 98044, 0, 0, 0...\n",
       "b_age            (0.0029, 323.2, 323.2, 323.2, 323.2, 323.2, 32...\n",
       "t_age            (0, 315.2, 307, 315.2, 315.2, 315.2, 315.2, 31...\n",
       "b_period         (Quaternary, Carboniferous, Carboniferous, Car...\n",
       "t_period         (Quaternary, Carboniferous, Carboniferous, Car...\n",
       "c_interval       (Holocene, Bashkirian, Pennsylvanian, Bashkiri...\n",
       "t_units          (1, 0, 0, 0, 0, 0, 0, 0, 0, 0, 0, 0, 0, 0, 0, ...\n",
       "ref_id           (1, 27, 27, 27, 27, 27, 27, 27, 27, 27, 27, 36...\n",
       "headers          [b_age, b_period, bed, bed_id, c_interval, con..."
      ]
     },
     "execution_count": 15,
     "metadata": {},
     "output_type": "execute_result"
    }
   ],
   "source": [
    "data_frame = pd.DataFrame(data=data_series)\n",
    "data_frame"
   ]
  },
  {
   "cell_type": "code",
   "execution_count": null,
   "metadata": {
    "collapsed": true
   },
   "outputs": [],
   "source": []
  }
 ],
 "metadata": {
  "kernelspec": {
   "display_name": "Python 3",
   "language": "python",
   "name": "python3"
  },
  "language_info": {
   "codemirror_mode": {
    "name": "ipython",
    "version": 3
   },
   "file_extension": ".py",
   "mimetype": "text/x-python",
   "name": "python",
   "nbconvert_exporter": "python",
   "pygments_lexer": "ipython3",
   "version": "3.6.5"
  }
 },
 "nbformat": 4,
 "nbformat_minor": 2
}
