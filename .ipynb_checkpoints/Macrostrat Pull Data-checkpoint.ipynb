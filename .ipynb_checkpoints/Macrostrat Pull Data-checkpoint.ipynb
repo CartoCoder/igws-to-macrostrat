{
 "cells": [
  {
   "cell_type": "code",
   "execution_count": null,
   "metadata": {
    "collapsed": true
   },
   "outputs": [],
   "source": [
    "# working function, revised from ext_strat_phrases\n",
    "\n",
    "import csv, codecs\n",
    "from urllib.request import urlopen\n",
    "from pprint import pprint\n",
    "\n",
    "def download_csv(url):\n",
    "    '''INPUT: string url address\n",
    "       RETRUNS: dictionary with headers'''\n",
    "    \n",
    "    # return variable\n",
    "    data_dict = {}\n",
    "    \n",
    "    # get url from user\n",
    "    #url = input('Gimme a url to process:')\n",
    "    \n",
    "    data = urlopen(url)\n",
    "    csv_file = csv.reader(codecs.iterdecode(data, 'utf-8'))\n",
    "    \n",
    "    # create list of tuples with list(zip)\n",
    "    # unpack csv as list of tuples\n",
    "    # length of VARIABLE == number of fields\n",
    "    # length of VARIABLE[i] == number of rows\n",
    "    # VARIABLE[i][0] == header name\n",
    "    columns = list(zip(*csv_file))\n",
    "    \n",
    "    # set key names to field names (headers in the csv)\n",
    "    for field in columns:\n",
    "        data_dict[field[0]] = field[1:]\n",
    "    \n",
    "    data_dict['headers'] = sorted(data_dict.keys())\n",
    "    \n",
    "    return data_dict"
   ]
  },
  {
   "cell_type": "code",
   "execution_count": null,
   "metadata": {
    "collapsed": false
   },
   "outputs": [],
   "source": [
    "strat_dict = download_csv('https://macrostrat.org/api/defs/strat_names?all&format=csv')\n",
    "print('done with strat')\n",
    "interval_dict = download_csv('https://macrostrat.org/api/defs/intervals?all&format=csv')\n",
    "print('done with intervals')\n",
    "environment_dict = download_csv('https://macrostrat.org/api/defs/environments?all&format=csv')\n",
    "print('done with environments')"
   ]
  },
  {
   "cell_type": "code",
   "execution_count": null,
   "metadata": {
    "collapsed": false
   },
   "outputs": [],
   "source": [
    "from pprint import pprint\n",
    "\n",
    "print('STRAT DICT: ', strat_dict['headers'])\n",
    "print('INTERVAL DICT: ', interval_dict['headers'])\n",
    "print('ENVIRON DICT: ', environment_dict['headers'])"
   ]
  },
  {
   "cell_type": "code",
   "execution_count": null,
   "metadata": {
    "collapsed": true
   },
   "outputs": [],
   "source": [
    "import pandas as pd"
   ]
  },
  {
   "cell_type": "code",
   "execution_count": null,
   "metadata": {
    "collapsed": false
   },
   "outputs": [],
   "source": [
    "# as a pandsa series\n",
    "my_panda_series = pd.Series(data=strat_dict, index=strat_dict['headers'])\n",
    "my_panda_series"
   ]
  },
  {
   "cell_type": "code",
   "execution_count": null,
   "metadata": {
    "collapsed": false
   },
   "outputs": [],
   "source": [
    "my_panda_series['headers']"
   ]
  },
  {
   "cell_type": "code",
   "execution_count": null,
   "metadata": {
    "collapsed": false
   },
   "outputs": [],
   "source": [
    "my_panda_dataframe = pd.DataFrame(data=my_panda_series)\n",
    "my_panda_dataframe"
   ]
  },
  {
   "cell_type": "code",
   "execution_count": null,
   "metadata": {
    "collapsed": false
   },
   "outputs": [],
   "source": []
  },
  {
   "cell_type": "code",
   "execution_count": null,
   "metadata": {
    "collapsed": true
   },
   "outputs": [],
   "source": []
  }
 ],
 "metadata": {
  "kernelspec": {
   "display_name": "Python 3",
   "language": "python",
   "name": "python3"
  },
  "language_info": {
   "codemirror_mode": {
    "name": "ipython",
    "version": 3
   },
   "file_extension": ".py",
   "mimetype": "text/x-python",
   "name": "python",
   "nbconvert_exporter": "python",
   "pygments_lexer": "ipython3",
   "version": "3.6.5"
  }
 },
 "nbformat": 4,
 "nbformat_minor": 2
}
